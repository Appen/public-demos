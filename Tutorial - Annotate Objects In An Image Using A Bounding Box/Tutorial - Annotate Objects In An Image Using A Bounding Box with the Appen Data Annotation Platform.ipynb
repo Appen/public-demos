{
 "cells": [
  {
   "cell_type": "markdown",
   "id": "brave-target",
   "metadata": {},
   "source": [
    "# Annotating your Images for Object Detection"
   ]
  },
  {
   "cell_type": "markdown",
   "id": "alert-viking",
   "metadata": {},
   "source": [
    "This tutorial will walk you through the process of using the Appen Data Annotation Platform to create a dataset of annotated images to train a machine learning model. At the end of this tutorial, you will be able to upload data, run your own job in ADAP, and prepare the data into the Pascal VOC 2007 format using in ML platforms like NVIDIA’s Transfer Learning Toolkit. If you have any questions about the platform, please visit our [Success Center](https://success.appen.com/).\n",
    "\n",
    "```Author: Rahul Parundekar, Director of Data Science, Appen. ```"
   ]
  },
  {
   "cell_type": "markdown",
   "id": "ultimate-spread",
   "metadata": {},
   "source": [
    "## 1. Installing & Importing Dependencies"
   ]
  },
  {
   "cell_type": "code",
   "execution_count": 1,
   "id": "functional-marina",
   "metadata": {},
   "outputs": [
    {
     "name": "stdout",
     "output_type": "stream",
     "text": [
      "Requirement already satisfied: pandas in /usr/local/lib/python3.9/site-packages (1.2.3)\n",
      "Requirement already satisfied: imageio in /usr/local/lib/python3.9/site-packages (2.9.0)\n",
      "Requirement already satisfied: tqdm in /usr/local/lib/python3.9/site-packages (4.59.0)\n",
      "Requirement already satisfied: pillow in /usr/local/lib/python3.9/site-packages (from imageio) (8.1.2)\n",
      "Requirement already satisfied: numpy in /usr/local/lib/python3.9/site-packages (from imageio) (1.20.1)\n",
      "Requirement already satisfied: pytz>=2017.3 in /usr/local/lib/python3.9/site-packages (from pandas) (2021.1)\n",
      "Requirement already satisfied: python-dateutil>=2.7.3 in /usr/local/lib/python3.9/site-packages (from pandas) (2.8.1)\n",
      "Requirement already satisfied: six>=1.5 in /usr/local/lib/python3.9/site-packages (from python-dateutil>=2.7.3->pandas) (1.15.0)\n",
      "Collecting https://github.com/Simon-Campbell/dicttoxml/archive/b0777caf0ccf64c97a9c47a70b9ced6e0c51ddf7.zip\n",
      "  Using cached https://github.com/Simon-Campbell/dicttoxml/archive/b0777caf0ccf64c97a9c47a70b9ced6e0c51ddf7.zip\n"
     ]
    }
   ],
   "source": [
    "# First we install the needed libraries for this notebook\n",
    "!pip install pandas imageio tqdm\n",
    "# Install unofficial v1.8 of dicttoxml based on https://github.com/quandyfactory/dicttoxml/pull/64\n",
    "!pip install https://github.com/Simon-Campbell/dicttoxml/archive/b0777caf0ccf64c97a9c47a70b9ced6e0c51ddf7.zip"
   ]
  },
  {
   "cell_type": "code",
   "execution_count": 2,
   "id": "wireless-american",
   "metadata": {},
   "outputs": [],
   "source": [
    "# Next, we import the libraries in this notebook\n",
    "import os\n",
    "import shutil\n",
    "import pandas as pd\n",
    "import imageio\n",
    "import json\n",
    "import glob\n",
    "from tqdm import tqdm\n",
    "from dicttoxml import dicttoxml\n",
    "from xml.dom.minidom import parseString"
   ]
  },
  {
   "cell_type": "markdown",
   "id": "removed-yellow",
   "metadata": {},
   "source": [
    "## 2. Preparing your data for loading into ADAP"
   ]
  },
  {
   "cell_type": "markdown",
   "id": "associate-nursery",
   "metadata": {},
   "source": [
    "### a. Loading your data into a web-accesible location\n",
    "First, upload your images into the cloud or a location that ADAP can access. For example, you can load them into a private S3 bucket. "
   ]
  },
  {
   "cell_type": "markdown",
   "id": "cross-version",
   "metadata": {},
   "source": [
    "### b. Prepare your CSV\n",
    "Structure your input CSV file. Your CSV will have at least two columns.\n",
    "\n",
    "1. URLs to the images for ADAP. You can do this in one of three ways:\n",
    "- Use publicly-available URLs for your data from your S3 bucket.\n",
    "- Use pre-signed URLS for the duration of your annotation (e.g 2 weeks).\n",
    "- Leverage Appen’s Secure Data Access tool, which you can use to attach your database securely to the platform; Appen will only access your data when needed.\n",
    "\n",
    "2. Local file name on your device/some identification mechanism that you can later use."
   ]
  },
  {
   "cell_type": "markdown",
   "id": "communist-electric",
   "metadata": {},
   "source": [
    "### c. Here's how your CSV would look like"
   ]
  },
  {
   "cell_type": "code",
   "execution_count": 3,
   "id": "adapted-listing",
   "metadata": {},
   "outputs": [
    {
     "data": {
      "text/html": [
       "<div>\n",
       "<style scoped>\n",
       "    .dataframe tbody tr th:only-of-type {\n",
       "        vertical-align: middle;\n",
       "    }\n",
       "\n",
       "    .dataframe tbody tr th {\n",
       "        vertical-align: top;\n",
       "    }\n",
       "\n",
       "    .dataframe thead th {\n",
       "        text-align: right;\n",
       "    }\n",
       "</style>\n",
       "<table border=\"1\" class=\"dataframe\">\n",
       "  <thead>\n",
       "    <tr style=\"text-align: right;\">\n",
       "      <th></th>\n",
       "      <th>filename</th>\n",
       "      <th>image_url</th>\n",
       "    </tr>\n",
       "  </thead>\n",
       "  <tbody>\n",
       "    <tr>\n",
       "      <th>0</th>\n",
       "      <td>/Users/rparundekar/Downloads/coco-animals/trai...</td>\n",
       "      <td>https://figure-eight-datasets.s3.amazonaws.com...</td>\n",
       "    </tr>\n",
       "    <tr>\n",
       "      <th>1</th>\n",
       "      <td>/Users/rparundekar/Downloads/coco-animals/trai...</td>\n",
       "      <td>https://figure-eight-datasets.s3.amazonaws.com...</td>\n",
       "    </tr>\n",
       "    <tr>\n",
       "      <th>2</th>\n",
       "      <td>/Users/rparundekar/Downloads/coco-animals/trai...</td>\n",
       "      <td>https://figure-eight-datasets.s3.amazonaws.com...</td>\n",
       "    </tr>\n",
       "    <tr>\n",
       "      <th>3</th>\n",
       "      <td>/Users/rparundekar/Downloads/coco-animals/trai...</td>\n",
       "      <td>https://figure-eight-datasets.s3.amazonaws.com...</td>\n",
       "    </tr>\n",
       "    <tr>\n",
       "      <th>4</th>\n",
       "      <td>/Users/rparundekar/Downloads/coco-animals/trai...</td>\n",
       "      <td>https://figure-eight-datasets.s3.amazonaws.com...</td>\n",
       "    </tr>\n",
       "  </tbody>\n",
       "</table>\n",
       "</div>"
      ],
      "text/plain": [
       "                                            filename  \\\n",
       "0  /Users/rparundekar/Downloads/coco-animals/trai...   \n",
       "1  /Users/rparundekar/Downloads/coco-animals/trai...   \n",
       "2  /Users/rparundekar/Downloads/coco-animals/trai...   \n",
       "3  /Users/rparundekar/Downloads/coco-animals/trai...   \n",
       "4  /Users/rparundekar/Downloads/coco-animals/trai...   \n",
       "\n",
       "                                           image_url  \n",
       "0  https://figure-eight-datasets.s3.amazonaws.com...  \n",
       "1  https://figure-eight-datasets.s3.amazonaws.com...  \n",
       "2  https://figure-eight-datasets.s3.amazonaws.com...  \n",
       "3  https://figure-eight-datasets.s3.amazonaws.com...  \n",
       "4  https://figure-eight-datasets.s3.amazonaws.com...  "
      ]
     },
     "execution_count": 3,
     "metadata": {},
     "output_type": "execute_result"
    }
   ],
   "source": [
    "# Preview the CSV\n",
    "input_data_filepath = \"/Users/rparundekar/Downloads/coco-animals/coco_animals.csv\"\n",
    "input_df = pd.read_csv(input_data_filepath)\n",
    "input_df.head()"
   ]
  },
  {
   "cell_type": "markdown",
   "id": "tight-kitty",
   "metadata": {},
   "source": [
    "## 3. Getting your Data Annotated"
   ]
  },
  {
   "cell_type": "markdown",
   "id": "sharing-pantyhose",
   "metadata": {},
   "source": [
    "### a. Sign Up / Log In"
   ]
  },
  {
   "cell_type": "markdown",
   "id": "aerial-television",
   "metadata": {},
   "source": [
    "To get data annotated, you'll need  to create an account at https://client.appen.com/\n",
    "\n",
    "![Signup](signup.png)"
   ]
  },
  {
   "cell_type": "markdown",
   "id": "caroline-domestic",
   "metadata": {},
   "source": [
    "### b. Create Your Job\n",
    "\n",
    "Starting at the jobs tab on the left (or the \"home\" tab that shows you the templates below), you can select \"Create a Job\" to begin. \n",
    "\n",
    "![Create your Job - 0](create_0.png \"Job Page\")\n",
    "\n",
    "You can choose from a variety of templates. In our case we will first choose \"Image Annotation\".\n",
    "\n",
    "![Create your Job - 1](create_1.png \"Create your Job\")\n",
    "\n",
    "\n",
    "For our use case, we then choose \"Annotate and Categorize Objects in an Image Using a Bounding Box\"\n",
    "\n",
    "![Create your Job - 2](create_2.png \"Create your Job\")"
   ]
  },
  {
   "cell_type": "markdown",
   "id": "solved-tunnel",
   "metadata": {},
   "source": [
    "### c. Upload Data \n",
    "\n",
    "Upload the csv you created earlier by dragging and dropping into the upload tab.\n",
    "\n",
    "![Upload 1](upload_1.png \"Upload\")\n",
    "\n",
    "You'll see the data once it's loaded.\n",
    "\n",
    "![Upload 2](upload_2.png \"Upload\")"
   ]
  },
  {
   "cell_type": "markdown",
   "id": "soviet-running",
   "metadata": {},
   "source": [
    "### d. Design your Job \n",
    "\n",
    "Provide guidelines for Appen’s Crowd of over one million data labelers on what they should be looking for and any requirements they should be aware of.\n",
    "\n",
    "With the template, we've provided you a simple job design to get you started.\n",
    "\n",
    "![Design 1](design_1.png \"Design\")\n",
    "\n",
    "You'll need to also define the classes that should be detected by clicking \"Manage the Image Annotation Ontology\".\n",
    "\n",
    "![Design 2](design_2.png \"Design\")\n",
    "\n",
    "You can update the instructions to give more context about your use case and describe how the annotators should identify and label objects in the images. \n",
    "\n",
    "![Design 3](design_3.png \"Design\")\n",
    "\n",
    "Preview the job so that you can see how the annotator will see it. \n",
    "\n",
    "![Preview](preview_1.png \"Preview\")\n",
    "\n",
    "![Preview](preview_2.png \"Preview\")"
   ]
  },
  {
   "cell_type": "markdown",
   "id": "confidential-vessel",
   "metadata": {},
   "source": [
    "### e. Quality & Settings\n",
    "\n",
    "Create test questions to measure and track labeler performance.\n",
    "\n",
    "![QA](qa.png \"QA\")"
   ]
  },
  {
   "cell_type": "markdown",
   "id": "animated-abuse",
   "metadata": {},
   "source": [
    "### f. Launch your Job\n",
    "\n",
    "Do a test run first before officially launching your annotation job on the platform. Once you’ve launched your job, Appen’s global crowd of data labelers will annotate your data to your specifications. Make sure you've added enough funds to be able to launch your job!\n",
    "\n",
    "![Launch](launch.png \"Launch\")"
   ]
  },
  {
   "cell_type": "markdown",
   "id": "reasonable-journalist",
   "metadata": {},
   "source": [
    "### g. Monitor\n",
    "\n",
    "Monitor the accuracy rate of annotations in real-time. Make adjustments as needed in areas like job design, test questions, or annotators.\n",
    "\n",
    "![Monitor](monitor.png \"Monitor\")"
   ]
  },
  {
   "cell_type": "markdown",
   "id": "surprised-knitting",
   "metadata": {},
   "source": [
    "### h. Results\n",
    "\n",
    "Download a report of your labeled data output by clicking on \"Download\" for the \"Full\" Report.\n",
    "\n",
    "![Results](results.png \"Results\")"
   ]
  },
  {
   "cell_type": "markdown",
   "id": "moderate-accident",
   "metadata": {},
   "source": [
    "## 4. Converting to Pascal VOC Format\n",
    "\n",
    "From here, you can use the following section to convert your labeled data to a format like the Pascal Visual Object Classes (VOC)\n",
    "format."
   ]
  },
  {
   "cell_type": "code",
   "execution_count": 4,
   "id": "operational-arcade",
   "metadata": {},
   "outputs": [
    {
     "data": {
      "text/html": [
       "<div>\n",
       "<style scoped>\n",
       "    .dataframe tbody tr th:only-of-type {\n",
       "        vertical-align: middle;\n",
       "    }\n",
       "\n",
       "    .dataframe tbody tr th {\n",
       "        vertical-align: top;\n",
       "    }\n",
       "\n",
       "    .dataframe thead th {\n",
       "        text-align: right;\n",
       "    }\n",
       "</style>\n",
       "<table border=\"1\" class=\"dataframe\">\n",
       "  <thead>\n",
       "    <tr style=\"text-align: right;\">\n",
       "      <th></th>\n",
       "      <th>_unit_id</th>\n",
       "      <th>_created_at</th>\n",
       "      <th>_id</th>\n",
       "      <th>_started_at</th>\n",
       "      <th>_tainted</th>\n",
       "      <th>_channel</th>\n",
       "      <th>_trust</th>\n",
       "      <th>_worker_id</th>\n",
       "      <th>_country</th>\n",
       "      <th>_region</th>\n",
       "      <th>_city</th>\n",
       "      <th>_ip</th>\n",
       "      <th>annotation</th>\n",
       "      <th>nothing_to_box</th>\n",
       "      <th>annotation_gold</th>\n",
       "      <th>filename</th>\n",
       "      <th>image_url</th>\n",
       "      <th>nothing_to_box_gold</th>\n",
       "    </tr>\n",
       "  </thead>\n",
       "  <tbody>\n",
       "    <tr>\n",
       "      <th>0</th>\n",
       "      <td>2989031505</td>\n",
       "      <td>3/19/2021 21:38:03</td>\n",
       "      <td>5984571461</td>\n",
       "      <td>3/19/2021 21:29:41</td>\n",
       "      <td>False</td>\n",
       "      <td>feca</td>\n",
       "      <td>1.0</td>\n",
       "      <td>45227798</td>\n",
       "      <td>VEN</td>\n",
       "      <td>17</td>\n",
       "      <td>Altagracia</td>\n",
       "      <td>190.36.245.70</td>\n",
       "      <td>[{\"id\":\"2931ed45-5ab3-4915-9a0b-a29d30922447\",...</td>\n",
       "      <td>NaN</td>\n",
       "      <td>NaN</td>\n",
       "      <td>/Users/rparundekar/Downloads/coco-animals/trai...</td>\n",
       "      <td>https://figure-eight-datasets.s3.amazonaws.com...</td>\n",
       "      <td>NaN</td>\n",
       "    </tr>\n",
       "    <tr>\n",
       "      <th>1</th>\n",
       "      <td>2989031505</td>\n",
       "      <td>3/19/2021 21:39:41</td>\n",
       "      <td>5984573163</td>\n",
       "      <td>3/19/2021 21:35:57</td>\n",
       "      <td>False</td>\n",
       "      <td>feca</td>\n",
       "      <td>1.0</td>\n",
       "      <td>45163079</td>\n",
       "      <td>EGY</td>\n",
       "      <td>01</td>\n",
       "      <td>Mansoura</td>\n",
       "      <td>156.199.241.173</td>\n",
       "      <td>[{\"id\":\"b44498a1-30c0-41b2-8dfc-af648888e0a1\",...</td>\n",
       "      <td>NaN</td>\n",
       "      <td>NaN</td>\n",
       "      <td>/Users/rparundekar/Downloads/coco-animals/trai...</td>\n",
       "      <td>https://figure-eight-datasets.s3.amazonaws.com...</td>\n",
       "      <td>NaN</td>\n",
       "    </tr>\n",
       "    <tr>\n",
       "      <th>2</th>\n",
       "      <td>2989031505</td>\n",
       "      <td>3/19/2021 21:51:30</td>\n",
       "      <td>5984579758</td>\n",
       "      <td>3/19/2021 21:29:42</td>\n",
       "      <td>False</td>\n",
       "      <td>feca</td>\n",
       "      <td>1.0</td>\n",
       "      <td>46316811</td>\n",
       "      <td>USA</td>\n",
       "      <td>MT</td>\n",
       "      <td>Billings</td>\n",
       "      <td>131.196.55.127</td>\n",
       "      <td>[{\"id\":\"1e8999d3-e6b3-44a6-8496-698122b6a7f2\",...</td>\n",
       "      <td>NaN</td>\n",
       "      <td>NaN</td>\n",
       "      <td>/Users/rparundekar/Downloads/coco-animals/trai...</td>\n",
       "      <td>https://figure-eight-datasets.s3.amazonaws.com...</td>\n",
       "      <td>NaN</td>\n",
       "    </tr>\n",
       "    <tr>\n",
       "      <th>3</th>\n",
       "      <td>2989031506</td>\n",
       "      <td>3/19/2021 21:36:08</td>\n",
       "      <td>5984568481</td>\n",
       "      <td>3/19/2021 21:29:42</td>\n",
       "      <td>False</td>\n",
       "      <td>feca</td>\n",
       "      <td>1.0</td>\n",
       "      <td>46017640</td>\n",
       "      <td>VEN</td>\n",
       "      <td>22</td>\n",
       "      <td>Chivacoa</td>\n",
       "      <td>190.206.15.172</td>\n",
       "      <td>[{\"id\":\"7bf5220c-7ca8-494d-af14-e2622cb089ce\",...</td>\n",
       "      <td>NaN</td>\n",
       "      <td>NaN</td>\n",
       "      <td>/Users/rparundekar/Downloads/coco-animals/trai...</td>\n",
       "      <td>https://figure-eight-datasets.s3.amazonaws.com...</td>\n",
       "      <td>NaN</td>\n",
       "    </tr>\n",
       "    <tr>\n",
       "      <th>4</th>\n",
       "      <td>2989031506</td>\n",
       "      <td>3/19/2021 21:38:00</td>\n",
       "      <td>5984571362</td>\n",
       "      <td>3/19/2021 21:29:43</td>\n",
       "      <td>False</td>\n",
       "      <td>feca</td>\n",
       "      <td>1.0</td>\n",
       "      <td>46414011</td>\n",
       "      <td>BRA</td>\n",
       "      <td>27</td>\n",
       "      <td>Sao Paulo</td>\n",
       "      <td>191.96.70.45</td>\n",
       "      <td>[{\"id\":\"36bb558c-3bde-4438-b01e-dfdbda5435ce\",...</td>\n",
       "      <td>NaN</td>\n",
       "      <td>NaN</td>\n",
       "      <td>/Users/rparundekar/Downloads/coco-animals/trai...</td>\n",
       "      <td>https://figure-eight-datasets.s3.amazonaws.com...</td>\n",
       "      <td>NaN</td>\n",
       "    </tr>\n",
       "  </tbody>\n",
       "</table>\n",
       "</div>"
      ],
      "text/plain": [
       "     _unit_id         _created_at         _id         _started_at  _tainted  \\\n",
       "0  2989031505  3/19/2021 21:38:03  5984571461  3/19/2021 21:29:41     False   \n",
       "1  2989031505  3/19/2021 21:39:41  5984573163  3/19/2021 21:35:57     False   \n",
       "2  2989031505  3/19/2021 21:51:30  5984579758  3/19/2021 21:29:42     False   \n",
       "3  2989031506  3/19/2021 21:36:08  5984568481  3/19/2021 21:29:42     False   \n",
       "4  2989031506  3/19/2021 21:38:00  5984571362  3/19/2021 21:29:43     False   \n",
       "\n",
       "  _channel  _trust  _worker_id _country _region       _city              _ip  \\\n",
       "0     feca     1.0    45227798      VEN      17  Altagracia    190.36.245.70   \n",
       "1     feca     1.0    45163079      EGY      01    Mansoura  156.199.241.173   \n",
       "2     feca     1.0    46316811      USA      MT    Billings   131.196.55.127   \n",
       "3     feca     1.0    46017640      VEN      22    Chivacoa   190.206.15.172   \n",
       "4     feca     1.0    46414011      BRA      27   Sao Paulo     191.96.70.45   \n",
       "\n",
       "                                          annotation nothing_to_box  \\\n",
       "0  [{\"id\":\"2931ed45-5ab3-4915-9a0b-a29d30922447\",...            NaN   \n",
       "1  [{\"id\":\"b44498a1-30c0-41b2-8dfc-af648888e0a1\",...            NaN   \n",
       "2  [{\"id\":\"1e8999d3-e6b3-44a6-8496-698122b6a7f2\",...            NaN   \n",
       "3  [{\"id\":\"7bf5220c-7ca8-494d-af14-e2622cb089ce\",...            NaN   \n",
       "4  [{\"id\":\"36bb558c-3bde-4438-b01e-dfdbda5435ce\",...            NaN   \n",
       "\n",
       "   annotation_gold                                           filename  \\\n",
       "0              NaN  /Users/rparundekar/Downloads/coco-animals/trai...   \n",
       "1              NaN  /Users/rparundekar/Downloads/coco-animals/trai...   \n",
       "2              NaN  /Users/rparundekar/Downloads/coco-animals/trai...   \n",
       "3              NaN  /Users/rparundekar/Downloads/coco-animals/trai...   \n",
       "4              NaN  /Users/rparundekar/Downloads/coco-animals/trai...   \n",
       "\n",
       "                                           image_url  nothing_to_box_gold  \n",
       "0  https://figure-eight-datasets.s3.amazonaws.com...                  NaN  \n",
       "1  https://figure-eight-datasets.s3.amazonaws.com...                  NaN  \n",
       "2  https://figure-eight-datasets.s3.amazonaws.com...                  NaN  \n",
       "3  https://figure-eight-datasets.s3.amazonaws.com...                  NaN  \n",
       "4  https://figure-eight-datasets.s3.amazonaws.com...                  NaN  "
      ]
     },
     "execution_count": 4,
     "metadata": {},
     "output_type": "execute_result"
    }
   ],
   "source": [
    "# Let's see at how the downloaded data looks like.\n",
    "adap_annotations_data_filepath = \"/Users/rparundekar/Downloads/f1746_JOB_ID.csv\"\n",
    "df = pd.read_csv(adap_annotations_data_filepath)\n",
    "df.head()"
   ]
  },
  {
   "cell_type": "code",
   "execution_count": 5,
   "id": "bound-theater",
   "metadata": {},
   "outputs": [
    {
     "data": {
      "text/html": [
       "<div>\n",
       "<style scoped>\n",
       "    .dataframe tbody tr th:only-of-type {\n",
       "        vertical-align: middle;\n",
       "    }\n",
       "\n",
       "    .dataframe tbody tr th {\n",
       "        vertical-align: top;\n",
       "    }\n",
       "\n",
       "    .dataframe thead th {\n",
       "        text-align: right;\n",
       "    }\n",
       "</style>\n",
       "<table border=\"1\" class=\"dataframe\">\n",
       "  <thead>\n",
       "    <tr style=\"text-align: right;\">\n",
       "      <th></th>\n",
       "      <th>filename</th>\n",
       "      <th>annotation</th>\n",
       "    </tr>\n",
       "  </thead>\n",
       "  <tbody>\n",
       "    <tr>\n",
       "      <th>0</th>\n",
       "      <td>/Users/rparundekar/Downloads/coco-animals/trai...</td>\n",
       "      <td>[{\"id\":\"2931ed45-5ab3-4915-9a0b-a29d30922447\",...</td>\n",
       "    </tr>\n",
       "    <tr>\n",
       "      <th>1</th>\n",
       "      <td>/Users/rparundekar/Downloads/coco-animals/trai...</td>\n",
       "      <td>[{\"id\":\"b44498a1-30c0-41b2-8dfc-af648888e0a1\",...</td>\n",
       "    </tr>\n",
       "    <tr>\n",
       "      <th>2</th>\n",
       "      <td>/Users/rparundekar/Downloads/coco-animals/trai...</td>\n",
       "      <td>[{\"id\":\"1e8999d3-e6b3-44a6-8496-698122b6a7f2\",...</td>\n",
       "    </tr>\n",
       "    <tr>\n",
       "      <th>3</th>\n",
       "      <td>/Users/rparundekar/Downloads/coco-animals/trai...</td>\n",
       "      <td>[{\"id\":\"7bf5220c-7ca8-494d-af14-e2622cb089ce\",...</td>\n",
       "    </tr>\n",
       "    <tr>\n",
       "      <th>4</th>\n",
       "      <td>/Users/rparundekar/Downloads/coco-animals/trai...</td>\n",
       "      <td>[{\"id\":\"36bb558c-3bde-4438-b01e-dfdbda5435ce\",...</td>\n",
       "    </tr>\n",
       "    <tr>\n",
       "      <th>...</th>\n",
       "      <td>...</td>\n",
       "      <td>...</td>\n",
       "    </tr>\n",
       "    <tr>\n",
       "      <th>295</th>\n",
       "      <td>/Users/rparundekar/Downloads/coco-animals/trai...</td>\n",
       "      <td>[{\"id\":\"47a719de-b3f1-4258-b698-5268124a4e54\",...</td>\n",
       "    </tr>\n",
       "    <tr>\n",
       "      <th>296</th>\n",
       "      <td>/Users/rparundekar/Downloads/coco-animals/trai...</td>\n",
       "      <td>[{\"id\":\"503b0944-faf5-49bf-a5f7-03b789234226\",...</td>\n",
       "    </tr>\n",
       "    <tr>\n",
       "      <th>297</th>\n",
       "      <td>/Users/rparundekar/Downloads/coco-animals/trai...</td>\n",
       "      <td>[{\"id\":\"4d15a488-7311-4252-9e51-d0858a4cc095\",...</td>\n",
       "    </tr>\n",
       "    <tr>\n",
       "      <th>298</th>\n",
       "      <td>/Users/rparundekar/Downloads/coco-animals/trai...</td>\n",
       "      <td>[{\"id\":\"2a31ad1f-32c2-4162-9de8-ce4d6f7b4474\",...</td>\n",
       "    </tr>\n",
       "    <tr>\n",
       "      <th>299</th>\n",
       "      <td>/Users/rparundekar/Downloads/coco-animals/trai...</td>\n",
       "      <td>[{\"id\":\"a307784b-be65-48a8-b44b-13cab1abb235\",...</td>\n",
       "    </tr>\n",
       "  </tbody>\n",
       "</table>\n",
       "<p>300 rows × 2 columns</p>\n",
       "</div>"
      ],
      "text/plain": [
       "                                              filename  \\\n",
       "0    /Users/rparundekar/Downloads/coco-animals/trai...   \n",
       "1    /Users/rparundekar/Downloads/coco-animals/trai...   \n",
       "2    /Users/rparundekar/Downloads/coco-animals/trai...   \n",
       "3    /Users/rparundekar/Downloads/coco-animals/trai...   \n",
       "4    /Users/rparundekar/Downloads/coco-animals/trai...   \n",
       "..                                                 ...   \n",
       "295  /Users/rparundekar/Downloads/coco-animals/trai...   \n",
       "296  /Users/rparundekar/Downloads/coco-animals/trai...   \n",
       "297  /Users/rparundekar/Downloads/coco-animals/trai...   \n",
       "298  /Users/rparundekar/Downloads/coco-animals/trai...   \n",
       "299  /Users/rparundekar/Downloads/coco-animals/trai...   \n",
       "\n",
       "                                            annotation  \n",
       "0    [{\"id\":\"2931ed45-5ab3-4915-9a0b-a29d30922447\",...  \n",
       "1    [{\"id\":\"b44498a1-30c0-41b2-8dfc-af648888e0a1\",...  \n",
       "2    [{\"id\":\"1e8999d3-e6b3-44a6-8496-698122b6a7f2\",...  \n",
       "3    [{\"id\":\"7bf5220c-7ca8-494d-af14-e2622cb089ce\",...  \n",
       "4    [{\"id\":\"36bb558c-3bde-4438-b01e-dfdbda5435ce\",...  \n",
       "..                                                 ...  \n",
       "295  [{\"id\":\"47a719de-b3f1-4258-b698-5268124a4e54\",...  \n",
       "296  [{\"id\":\"503b0944-faf5-49bf-a5f7-03b789234226\",...  \n",
       "297  [{\"id\":\"4d15a488-7311-4252-9e51-d0858a4cc095\",...  \n",
       "298  [{\"id\":\"2a31ad1f-32c2-4162-9de8-ce4d6f7b4474\",...  \n",
       "299  [{\"id\":\"a307784b-be65-48a8-b44b-13cab1abb235\",...  \n",
       "\n",
       "[300 rows x 2 columns]"
      ]
     },
     "execution_count": 5,
     "metadata": {},
     "output_type": "execute_result"
    }
   ],
   "source": [
    "# We'll only need to look at two of the columns - the filename, \n",
    "# that ties the data with our local files, and annotation that are the object annotations.\n",
    "df[[\"filename\", \"annotation\"]]"
   ]
  },
  {
   "cell_type": "code",
   "execution_count": 6,
   "id": "threaded-display",
   "metadata": {},
   "outputs": [
    {
     "name": "stdout",
     "output_type": "stream",
     "text": [
      "[\n",
      "  {\n",
      "    \"id\": \"2931ed45-5ab3-4915-9a0b-a29d30922447\",\n",
      "    \"class\": \"cat\",\n",
      "    \"type\": \"box\",\n",
      "    \"coordinates\": {\n",
      "      \"x\": 210,\n",
      "      \"y\": 32,\n",
      "      \"w\": 364,\n",
      "      \"h\": 394\n",
      "    }\n",
      "  }\n",
      "]\n"
     ]
    }
   ],
   "source": [
    "# Here's how one annotation looks like:\n",
    "print(json.dumps(json.loads(df[\"annotation\"][0]), indent=2))"
   ]
  },
  {
   "cell_type": "code",
   "execution_count": 7,
   "id": "interested-exposure",
   "metadata": {},
   "outputs": [],
   "source": [
    "# Clean up the data frame and replace empty cells in the 'annotation' column without any detected objects.\n",
    "df.fillna('', inplace=True)"
   ]
  },
  {
   "cell_type": "code",
   "execution_count": 8,
   "id": "herbal-glossary",
   "metadata": {},
   "outputs": [],
   "source": [
    "# Let's create a folder for storing the annotations\n",
    "pascal_annotations_folder = \"/Users/rparundekar/Downloads/coco-animals/annotations\"\n",
    "\n",
    "# Create the folder if it doesn't exist\n",
    "if not os.path.exists(pascal_annotations_folder):\n",
    "    os.makedirs(pascal_annotations_folder)"
   ]
  },
  {
   "cell_type": "code",
   "execution_count": 9,
   "id": "cardiovascular-purchase",
   "metadata": {},
   "outputs": [
    {
     "name": "stderr",
     "output_type": "stream",
     "text": [
      "100%|██████████| 300/300 [00:02<00:00, 118.31it/s]\n"
     ]
    }
   ],
   "source": [
    "# Iterate through the data\n",
    "for index, row in tqdm(df.iterrows(), total=df.shape[0]): \n",
    "    # Create the annotation object to write to file\n",
    "    annotation = {} \n",
    "\n",
    "    # Get the path to the local file\n",
    "    filename = row[\"filename\"]\n",
    "    \n",
    "    # File details\n",
    "    annotation[\"path\"] = os.path.abspath(filename)\n",
    "    annotation[\"filename\"] = os.path.basename(filename)    \n",
    "    annotation[\"folder\"] = annotation[\"path\"].split(os.path.sep)[-2]\n",
    "    \n",
    "    # Dataset details \n",
    "    annotation[\"source\"] = {\"dataset\": \"coco-animals\"}\n",
    "    \n",
    "    # Image details \n",
    "    height, width, depth = imageio.imread(filename).shape\n",
    "    annotation[\"size\"] = {\"width\": width, \"height\": height, \"depth\":depth}\n",
    "    \n",
    "    # Annotation is bounding box\n",
    "    annotation[\"segmented\"] = 0\n",
    "    \n",
    "    # Check if no objects in image\n",
    "    if row[\"nothing_to_box\"]:\n",
    "        pass # No objects to add\n",
    "    else:\n",
    "        # Objects annotated\n",
    "        adap_objects = json.loads(row[\"annotation\"])\n",
    "        objects = []\n",
    "        annotation[\"object\"] = objects\n",
    "        for adap_obj in adap_objects:\n",
    "            # Sanity checks\n",
    "            assert adap_obj[\"type\"]==\"box\"\n",
    "            assert \"angle\" not in adap_obj\n",
    "\n",
    "            coordinates = adap_obj[\"coordinates\"]\n",
    "            x, y, w, h = coordinates[\"x\"], coordinates[\"y\"], coordinates[\"w\"], coordinates[\"h\"],\n",
    "            obj = {\"name\":adap_obj[\"class\"], \"bndbox\": {\"xmin\": x, \"ymin\": y, \"xmax\": (x+w), \"ymax\": (y+h)}}\n",
    "            objects.append(obj)\n",
    "            objects.append(obj)\n",
    "    \n",
    "    # Outermost root object\n",
    "    root_annotation_obj = {\"annotation\": annotation}\n",
    "\n",
    "    # Convert to XML\n",
    "    item_name = lambda x: x\n",
    "    xml_snippet = dicttoxml(root_annotation_obj, root=False, attr_type=False, item_func=item_name, fold_list=False).decode(\"utf-8\")\n",
    "    dom = parseString(xml_snippet)\n",
    "    \n",
    "    # Write to file (Note: will overwrite files w/ same name)\n",
    "    split = annotation[\"filename\"].split(\".\")\n",
    "    split[-1] = \".xml\" # Change the extension from whatever (e.g. .jpg/.jpeg/.bmp/png) to .xml\n",
    "    xml_filename = ''.join(split)\n",
    "    with open(os.path.join(pascal_annotations_folder, xml_filename), \"w\") as f:\n",
    "        f.write(dom.toprettyxml())"
   ]
  },
  {
   "cell_type": "markdown",
   "id": "regular-artwork",
   "metadata": {},
   "source": [
    "## That's it! Your data is ready for training! \n",
    "\n",
    "Let's check one file for confirming how the XML looks like. "
   ]
  },
  {
   "cell_type": "code",
   "execution_count": 10,
   "id": "crucial-favorite",
   "metadata": {},
   "outputs": [
    {
     "name": "stdout",
     "output_type": "stream",
     "text": [
      "File: /Users/rparundekar/Downloads/coco-animals/annotations/COCO_train2014_000000069003.xml\n",
      "Contents:\n",
      "<?xml version=\"1.0\" ?>\n",
      "<annotation>\n",
      "\t<path>/Users/rparundekar/Downloads/coco-animals/train/cat/COCO_train2014_000000119488.jpg</path>\n",
      "\t<filename>COCO_train2014_000000119488.jpg</filename>\n",
      "\t<folder>cat</folder>\n",
      "\t<source>\n",
      "\t\t<dataset>coco-animals</dataset>\n",
      "\t</source>\n",
      "\t<size>\n",
      "\t\t<width>640</width>\n",
      "\t\t<height>425</height>\n",
      "\t\t<depth>3</depth>\n",
      "\t</size>\n",
      "\t<segmented>0</segmented>\n",
      "\t<object>\n",
      "\t\t<name>cat</name>\n",
      "\t\t<bndbox>\n",
      "\t\t\t<xmin>447</xmin>\n",
      "\t\t\t<ymin>370</ymin>\n",
      "\t\t\t<xmax>504</xmax>\n",
      "\t\t\t<ymax>424</ymax>\n",
      "\t\t</bndbox>\n",
      "\t</object>\n",
      "\t<object>\n",
      "\t\t<name>cat</name>\n",
      "\t\t<bndbox>\n",
      "\t\t\t<xmin>447</xmin>\n",
      "\t\t\t<ymin>370</ymin>\n",
      "\t\t\t<xmax>504</xmax>\n",
      "\t\t\t<ymax>424</ymax>\n",
      "\t\t</bndbox>\n",
      "\t</object>\n",
      "</annotation>\n",
      "\n"
     ]
    }
   ],
   "source": [
    "# Print one file content\n",
    "for filename in glob.glob(os.path.join(pascal_annotations_folder, \"*.xml\")):\n",
    "    print(f\"File: {filename}\")\n",
    "    print(f\"Contents:\")\n",
    "    with open(os.path.join(pascal_annotations_folder, xml_filename), \"r\") as f:\n",
    "        print(f.read())\n",
    "    break"
   ]
  },
  {
   "cell_type": "markdown",
   "id": "divine-radio",
   "metadata": {},
   "source": [
    "## Training your Model\n",
    "\n",
    "Your data annotated with Appen can now be used to train your object detection model. "
   ]
  },
  {
   "cell_type": "markdown",
   "id": "monetary-cartoon",
   "metadata": {},
   "source": [
    "### Transfer Learning with NVIDIA's Transfer Learning Toolkit "
   ]
  },
  {
   "cell_type": "markdown",
   "id": "brown-battle",
   "metadata": {},
   "source": [
    "The annnotated data generated with ADAP can also be used with NVIDIA's Transfer Learning Toolkit (TLT). TLT is a python based AI toolkit for customizing pre-trained AI models with your own data. TLT allows you to train, fine tune, prune and export highly optimized and accurate AI models for edge deployment by adapting popular network architectures and backbones to your data."
   ]
  },
  {
   "cell_type": "markdown",
   "id": "potential-cincinnati",
   "metadata": {},
   "source": [
    "- [Transfer Learning with Object Detection](https://ngc.nvidia.com/catalog/models/nvidia:tlt_pretrained_object_detection) with common architectures like YOLOV3, FasterRCNN, SSD, DSSD, and RetinaNet. \n",
    "- [Transfer Learning with Detectnet v2](https://ngc.nvidia.com/catalog/models/nvidia:tlt_pretrained_detectnet_v2) "
   ]
  }
 ],
 "metadata": {
  "kernelspec": {
   "display_name": "Python 3",
   "language": "python",
   "name": "python3"
  },
  "language_info": {
   "codemirror_mode": {
    "name": "ipython",
    "version": 3
   },
   "file_extension": ".py",
   "mimetype": "text/x-python",
   "name": "python",
   "nbconvert_exporter": "python",
   "pygments_lexer": "ipython3",
   "version": "3.9.2"
  }
 },
 "nbformat": 4,
 "nbformat_minor": 5
}
