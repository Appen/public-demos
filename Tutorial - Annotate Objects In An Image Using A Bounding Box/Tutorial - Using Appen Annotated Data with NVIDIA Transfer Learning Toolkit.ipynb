{
 "cells": [
  {
   "cell_type": "markdown",
   "id": "acknowledged-scale",
   "metadata": {},
   "source": [
    "# Tutorial - Using Appen Annotated Data with NVIDIA Transfer Learning Toolkit"
   ]
  },
  {
   "cell_type": "markdown",
   "id": "proof-capture",
   "metadata": {},
   "source": [
    "The annnotated data generated with ADAP can also be used with NVIDIA's Transfer Learning Toolkit (TLT). TLT is a python based AI toolkit for customizing pre-trained AI models with your own data. TLT allows you to train, fine tune, prune and export highly optimized and accurate AI models for edge deployment by adapting popular network architectures and backbones to your data.\n",
    "\n",
    "Our [previous tutorial](./Tutorial%20-%20Annotate%20Objects%20In%20An%20Image%20Using%20A%20Bounding%20Box%20with%20the%20Appen%20Data%20Annotation%20Platform.ipynb) explains how to generate annotations using ADAP in the Pascal VOC format for the coco-animals dataset. In this tutorial, we use that data to train an object detection model using NVIDIA's TLT."
   ]
  },
  {
   "cell_type": "markdown",
   "id": "fallen-default",
   "metadata": {},
   "source": [
    "The Transfer Learning Toolkit provides various object detection models to fine tune from:\n",
    "- [Transfer Learning with Object Detection](https://ngc.nvidia.com/catalog/models/nvidia:tlt_pretrained_object_detection) with common architectures like YOLOV3, FasterRCNN, SSD, DSSD, and RetinaNet. \n",
    "- [Transfer Learning with Detectnet v2](https://ngc.nvidia.com/catalog/models/nvidia:tlt_pretrained_detectnet_v2) \n",
    "\n",
    "For simplicity, we create a YOLOV3 model using NVIDIA's instructions [here](https://developer.nvidia.com/blog/preparing-state-of-the-art-models-for-classification-and-object-detection-with-tlt/)"
   ]
  },
  {
   "cell_type": "code",
   "execution_count": 29,
   "id": "fresh-terrorist",
   "metadata": {},
   "outputs": [],
   "source": [
    "import os\n",
    "import glob\n",
    "from xml_to_kitti import xml_to_kitti"
   ]
  },
  {
   "cell_type": "markdown",
   "id": "unavailable-defendant",
   "metadata": {},
   "source": [
    "## Convert Annotations from Pascal VOC to Kitti format\n",
    "We use the [xml_to_kitti.py](./xml_to_kitti.py) helper script to convert our annotations into KITTI format"
   ]
  },
  {
   "cell_type": "code",
   "execution_count": 23,
   "id": "future-treasure",
   "metadata": {},
   "outputs": [],
   "source": [
    "# The classes in our coco-animals example\n",
    "classes = ['bear', \"bird\", \"cat\", \"dog\", \"giraffe\", \"horse\", \"sheep\", \"zebra\"]\n",
    "\n",
    "# The path to the dataset and Pascal annotations\n",
    "pascal_annotations_folder = \"/Users/rparundekar/Downloads/coco-animals/annotations\"\n",
    "pascal_train_annotations_folder = os.path.join(pascal_annotations_folder, \"train\")\n",
    "pascal_val_annotations_folder = os.path.join(pascal_annotations_folder, \"val\")"
   ]
  },
  {
   "cell_type": "code",
   "execution_count": 24,
   "id": "assisted-third",
   "metadata": {},
   "outputs": [],
   "source": [
    "# Create output dirs for kitti format\n",
    "kitti_annotations_folder = \"/Users/rparundekar/Downloads/coco-animals/kitti_annotations\"\n",
    "kitti_train_annotations_folder = os.path.join(kitti_annotations_folder, \"train\")\n",
    "kitti_val_annotations_folder = os.path.join(kitti_annotations_folder, \"val\")\n",
    "\n",
    "# Create the folder if it doesn't exist\n",
    "if not os.path.exists(kitti_annotations_folder):\n",
    "    os.makedirs(kitti_annotations_folder)\n",
    "# Also create train and val folders\n",
    "if not os.path.exists(kitti_train_annotations_folder):\n",
    "    os.makedirs(kitti_train_annotations_folder)\n",
    "if not os.path.exists(kitti_val_annotations_folder):\n",
    "    os.makedirs(kitti_val_annotations_folder)"
   ]
  },
  {
   "cell_type": "code",
   "execution_count": 25,
   "id": "cloudy-firewall",
   "metadata": {},
   "outputs": [],
   "source": [
    "# Convert train and val data to kitti\n",
    "xml_to_kitti(input_dir=pascal_train_annotations_folder, output_dir=kitti_train_annotations_folder, encode_difficult=\"0\", classes=classes)"
   ]
  },
  {
   "cell_type": "code",
   "execution_count": 31,
   "id": "usual-theta",
   "metadata": {},
   "outputs": [
    {
     "name": "stdout",
     "output_type": "stream",
     "text": [
      "File: /Users/rparundekar/Downloads/coco-animals/kitti_annotations/train/COCO_train2014_000000564611.txt\n",
      "Contents:\n",
      "cat 0 0 0 165 173 214 208 0 0 0 0 0 0 0\n",
      "cat 0 0 0 165 173 214 208 0 0 0 0 0 0 0\n",
      "cat 0 0 0 265 190 267 192 0 0 0 0 0 0 0\n",
      "cat 0 0 0 265 190 267 192 0 0 0 0 0 0 0\n",
      "\n"
     ]
    }
   ],
   "source": [
    "# Print one file content from the training set\n",
    "for filename in glob.glob(os.path.join(kitti_annotations_folder, 'train', \"*.txt\")):\n",
    "    print(f\"File: {filename}\")\n",
    "    print(f\"Contents:\")\n",
    "    with open(os.path.join(kitti_annotations_folder, 'train', filename), \"r\") as f:\n",
    "        print(f.read())\n",
    "    break"
   ]
  },
  {
   "cell_type": "markdown",
   "id": "municipal-bronze",
   "metadata": {},
   "source": [
    "## Training with TLT "
   ]
  },
  {
   "cell_type": "code",
   "execution_count": 32,
   "id": "promotional-intranet",
   "metadata": {},
   "outputs": [
    {
     "name": "stdout",
     "output_type": "stream",
     "text": [
      "Collecting nvidia-pyindex\n",
      "  Downloading nvidia-pyindex-1.0.6.tar.gz (6.7 kB)\n",
      "\u001b[31m    ERROR: Command errored out with exit status 1:\n",
      "     command: /usr/local/opt/python@3.9/bin/python3.9 -c 'import sys, setuptools, tokenize; sys.argv[0] = '\"'\"'/private/var/folders/vl/7s4plzcx3yxcvpkf5n5zg2pm0000w4/T/pip-install-av1tzrhb/nvidia-pyindex_79c54bb1c433442ba417658b81e0ffe8/setup.py'\"'\"'; __file__='\"'\"'/private/var/folders/vl/7s4plzcx3yxcvpkf5n5zg2pm0000w4/T/pip-install-av1tzrhb/nvidia-pyindex_79c54bb1c433442ba417658b81e0ffe8/setup.py'\"'\"';f=getattr(tokenize, '\"'\"'open'\"'\"', open)(__file__);code=f.read().replace('\"'\"'\\r\\n'\"'\"', '\"'\"'\\n'\"'\"');f.close();exec(compile(code, __file__, '\"'\"'exec'\"'\"'))' egg_info --egg-base /private/var/folders/vl/7s4plzcx3yxcvpkf5n5zg2pm0000w4/T/pip-pip-egg-info-7onj9k87\n",
      "         cwd: /private/var/folders/vl/7s4plzcx3yxcvpkf5n5zg2pm0000w4/T/pip-install-av1tzrhb/nvidia-pyindex_79c54bb1c433442ba417658b81e0ffe8/\n",
      "    Complete output (6 lines):\n",
      "    Traceback (most recent call last):\n",
      "      File \"<string>\", line 1, in <module>\n",
      "      File \"/private/var/folders/vl/7s4plzcx3yxcvpkf5n5zg2pm0000w4/T/pip-install-av1tzrhb/nvidia-pyindex_79c54bb1c433442ba417658b81e0ffe8/setup.py\", line 214, in <module>\n",
      "        raise OSError(\"Your operating system is not supported by \"\n",
      "    OSError: Your operating system is not supported by `nvidia-pyindex`: darwin.\n",
      "    Only Linux systems are supported.\n",
      "    ----------------------------------------\u001b[0m\n",
      "\u001b[33mWARNING: Discarding https://files.pythonhosted.org/packages/40/e6/56a6909f95409a31865399282f5f5a1692e89e7f5f5c5e7633d201e0fbd0/nvidia-pyindex-1.0.6.tar.gz#sha256=4b025aef886cb134cc3935c3b3eeaf32585b135f4752511aabf1f3f6e4606ac8 (from https://pypi.org/simple/nvidia-pyindex/). Command errored out with exit status 1: python setup.py egg_info Check the logs for full command output.\u001b[0m\n",
      "  Downloading nvidia-pyindex-1.0.5.tar.gz (6.1 kB)\n",
      "Building wheels for collected packages: nvidia-pyindex\n",
      "  Building wheel for nvidia-pyindex (setup.py) ... \u001b[?25ldone\n",
      "\u001b[?25h  Created wheel for nvidia-pyindex: filename=nvidia_pyindex-1.0.5-py3-none-any.whl size=4170 sha256=7e68f71bafa411ea4e5a02d0a76e7aa49fa5bacb509b8fada136a0c934e1bc9d\n",
      "  Stored in directory: /Users/rparundekar/Library/Caches/pip/wheels/93/56/f1/2609d85af643eac34c360dd01b95feb483afd8f856f2fc9953\n",
      "Successfully built nvidia-pyindex\n",
      "Installing collected packages: nvidia-pyindex\n",
      "Successfully installed nvidia-pyindex-1.0.5\n",
      "Looking in indexes: https://pypi.org/simple, https://pypi.ngc.nvidia.com\n",
      "Collecting nvidia-tlt\n",
      "  Downloading https://developer.download.nvidia.com/compute/redist/nvidia-tlt/nvidia_tlt-0.0.16-py3-none-any.whl (143 kB)\n",
      "\u001b[K     |████████████████████████████████| 143 kB 11.4 MB/s eta 0:00:01\n",
      "\u001b[?25hCollecting urllib3==1.25.10\n",
      "  Downloading urllib3-1.25.10-py2.py3-none-any.whl (127 kB)\n",
      "\u001b[K     |████████████████████████████████| 127 kB 952 kB/s eta 0:00:01\n",
      "\u001b[?25hCollecting docker==4.3.1\n",
      "  Downloading docker-4.3.1-py2.py3-none-any.whl (145 kB)\n",
      "\u001b[K     |████████████████████████████████| 145 kB 4.6 MB/s eta 0:00:01\n",
      "\u001b[?25hRequirement already satisfied: six==1.15.0 in /usr/local/lib/python3.9/site-packages (from nvidia-tlt) (1.15.0)\n",
      "Collecting websocket-client==0.57.0\n",
      "  Downloading websocket_client-0.57.0-py2.py3-none-any.whl (200 kB)\n",
      "\u001b[K     |████████████████████████████████| 200 kB 9.2 MB/s eta 0:00:01\n",
      "\u001b[?25hRequirement already satisfied: idna==2.10 in /usr/local/lib/python3.9/site-packages (from nvidia-tlt) (2.10)\n",
      "Collecting docker-pycreds==0.4.0\n",
      "  Downloading docker_pycreds-0.4.0-py2.py3-none-any.whl (9.0 kB)\n",
      "Collecting chardet==3.0.4\n",
      "  Downloading chardet-3.0.4-py2.py3-none-any.whl (133 kB)\n",
      "\u001b[K     |████████████████████████████████| 133 kB 10.5 MB/s eta 0:00:01\n",
      "\u001b[?25hCollecting certifi==2020.6.20\n",
      "  Downloading certifi-2020.6.20-py2.py3-none-any.whl (156 kB)\n",
      "\u001b[K     |████████████████████████████████| 156 kB 12.2 MB/s eta 0:00:01\n",
      "\u001b[?25hCollecting tabulate==0.8.7\n",
      "  Downloading tabulate-0.8.7-py3-none-any.whl (24 kB)\n",
      "Collecting requests==2.24.0\n",
      "  Downloading requests-2.24.0-py2.py3-none-any.whl (61 kB)\n",
      "\u001b[K     |████████████████████████████████| 61 kB 10.7 MB/s eta 0:00:01\n",
      "\u001b[?25hInstalling collected packages: urllib3, chardet, certifi, websocket-client, requests, tabulate, docker-pycreds, docker, nvidia-tlt\n",
      "  Attempting uninstall: urllib3\n",
      "    Found existing installation: urllib3 1.26.4\n",
      "    Uninstalling urllib3-1.26.4:\n",
      "      Successfully uninstalled urllib3-1.26.4\n",
      "  Attempting uninstall: chardet\n",
      "    Found existing installation: chardet 4.0.0\n",
      "    Uninstalling chardet-4.0.0:\n",
      "      Successfully uninstalled chardet-4.0.0\n",
      "  Attempting uninstall: certifi\n",
      "    Found existing installation: certifi 2020.12.5\n",
      "    Uninstalling certifi-2020.12.5:\n",
      "      Successfully uninstalled certifi-2020.12.5\n",
      "  Attempting uninstall: requests\n",
      "    Found existing installation: requests 2.25.1\n",
      "    Uninstalling requests-2.25.1:\n",
      "      Successfully uninstalled requests-2.25.1\n",
      "\u001b[31mERROR: pip's dependency resolver does not currently take into account all the packages that are installed. This behaviour is the source of the following dependency conflicts.\n",
      "awscli 1.19.29 requires colorama<0.4.4,>=0.2.5, but you have colorama 0.4.4 which is incompatible.\u001b[0m\n",
      "Successfully installed certifi-2020.6.20 chardet-3.0.4 docker-4.3.1 docker-pycreds-0.4.0 nvidia-tlt-0.0.16 requests-2.24.0 tabulate-0.8.7 urllib3-1.25.10 websocket-client-0.57.0\n"
     ]
    }
   ],
   "source": [
    "#Install tlt-launcher\n",
    "!pip3 install nvidia-pyindex\n",
    "!pip3 install nvidia-tlt"
   ]
  },
  {
   "cell_type": "code",
   "execution_count": null,
   "id": "comic-liability",
   "metadata": {},
   "outputs": [],
   "source": []
  }
 ],
 "metadata": {
  "kernelspec": {
   "display_name": "Python 3",
   "language": "python",
   "name": "python3"
  },
  "language_info": {
   "codemirror_mode": {
    "name": "ipython",
    "version": 3
   },
   "file_extension": ".py",
   "mimetype": "text/x-python",
   "name": "python",
   "nbconvert_exporter": "python",
   "pygments_lexer": "ipython3",
   "version": "3.9.2"
  }
 },
 "nbformat": 4,
 "nbformat_minor": 5
}
